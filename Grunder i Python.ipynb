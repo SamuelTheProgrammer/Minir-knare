{
 "cells": [
  {
   "cell_type": "markdown",
   "id": "32e78643",
   "metadata": {},
   "source": [
    "# Arbetsbok: Grunder i Python\n",
    "\n",
    "Besvara följande frågor, tänk på att i kodceller skriver du kod och text för textsvar. Frågorna är fria men det är en möjlighet att visa att du behärskar grunderna i Python. Spara med jämna mellanrum med ctrl-s.\n"
   ]
  },
  {
   "cell_type": "markdown",
   "id": "33040380",
   "metadata": {},
   "source": [
    "## 1. Vad är en datatyp? Ge exempel på fyra olika? Förklara varför det finns olika datatyper samt användning."
   ]
  },
  {
   "cell_type": "code",
   "execution_count": null,
   "id": "1de0df53",
   "metadata": {},
   "outputs": [],
   "source": [
    "# En datatyp är definerad information som ett datorprogram använder för att hantera data. De vanligaste datatyperna är :\n",
    "# Integer, vilket innebär heltal, float som är decimaltal, boolean som är sant eller falskt och string som till exempel kan vara ord"
   ]
  },
  {
   "cell_type": "markdown",
   "id": "7a78e972",
   "metadata": {},
   "source": [
    "## 2. Visa med exempel hur du använder funktioner print() och input()"
   ]
  },
  {
   "cell_type": "code",
   "execution_count": 1,
   "id": "b07ffc64",
   "metadata": {},
   "outputs": [
    {
     "name": "stdout",
     "output_type": "stream",
     "text": [
      "Vad är ditt namn? Samuel\n",
      "Hej, Samuel ! Vad kul att du är här!.\n"
     ]
    }
   ],
   "source": [
    "name = input(\"Vad är ditt namn? \")\n",
    "\n",
    "print(\"Hej,\", name, \"! Vad kul att du är här!.\")"
   ]
  },
  {
   "cell_type": "markdown",
   "id": "eca2acf8",
   "metadata": {},
   "source": [
    "## 3. Visa hur man använder formaterad utskrift (f-string)"
   ]
  },
  {
   "cell_type": "code",
   "execution_count": 2,
   "id": "d7ff540d",
   "metadata": {},
   "outputs": [
    {
     "name": "stdout",
     "output_type": "stream",
     "text": [
      "Hej, jag heter Max och jag är 14 år gammal och 1.35 meter lång.\n"
     ]
    }
   ],
   "source": [
    " namn = \"Max\"\n",
    " ålder = 14\n",
    " längd = 1.35\n",
    "# För att enkelt och effektivt skapa strängar med dynamiskt innehåll genom att infoga variabler och uttryck på ett \n",
    "# lättläst och intuitivt sätt.\n",
    "\n",
    " print(f\"Hej, jag heter {namn} och jag är {ålder} år gammal och {längd:.2f} meter lång.\")"
   ]
  },
  {
   "cell_type": "markdown",
   "id": "368ede66",
   "metadata": {},
   "source": [
    "## 4. Skriv en kodbit med en if-sats, använd villkor samt print() och input()."
   ]
  },
  {
   "cell_type": "code",
   "execution_count": 3,
   "id": "31a4b020",
   "metadata": {},
   "outputs": [
    {
     "name": "stdout",
     "output_type": "stream",
     "text": [
      "Hur gammal är du? 18\n",
      "Ta körkort.\n"
     ]
    }
   ],
   "source": [
    "ålder = int(input(\"Hur gammal är du? \"))\n",
    "\n",
    "if ålder >= 18:\n",
    "    print(\"Ta körkort.\")\n",
    "else:\n",
    "    print(\"Du får vänta med körkort.\")"
   ]
  },
  {
   "cell_type": "markdown",
   "id": "16c89322",
   "metadata": {},
   "source": [
    "## 5. Importera någon modul. Vad är skillnad på inbyggda funktioner och de man importerar?"
   ]
  },
  {
   "cell_type": "code",
   "execution_count": 4,
   "id": "b1e91d9d",
   "metadata": {},
   "outputs": [
    {
     "name": "stdout",
     "output_type": "stream",
     "text": [
      "5.0\n",
      "8.0\n"
     ]
    }
   ],
   "source": [
    "import math\n",
    "\n",
    "x = math.sqrt(25)\n",
    "print(x)\n",
    "\n",
    "y = math.pow(2, 3)\n",
    "print(y)\n",
    "\n",
    "# Man måste skriva math. före namnet på varje funktion eller variabel från modulen\n",
    "# som du vill använda. Detta hjälper till att undvika namnkollisioner med befintliga variabler och funktioner i koden.\n"
   ]
  },
  {
   "cell_type": "markdown",
   "id": "f43177e9",
   "metadata": {},
   "source": [
    "## 6. Använd en loop (while eller for)"
   ]
  },
  {
   "cell_type": "code",
   "execution_count": 5,
   "id": "c0578bf8",
   "metadata": {},
   "outputs": [
    {
     "name": "stdout",
     "output_type": "stream",
     "text": [
      "1\n",
      "2\n",
      "3\n",
      "4\n",
      "5\n",
      "6\n",
      "7\n",
      "8\n",
      "9\n",
      "10\n"
     ]
    }
   ],
   "source": [
    "for i in range(1, 11):\n",
    "    print(i)\n",
    "# Detta är en simpel loop som printar ut heltal mellan 1 och 11"
   ]
  },
  {
   "cell_type": "markdown",
   "id": "37447463",
   "metadata": {},
   "source": [
    "## 7. Skapa en lista. Använd minst två funktioner på listan"
   ]
  },
  {
   "cell_type": "code",
   "execution_count": 6,
   "id": "6689b3f6",
   "metadata": {},
   "outputs": [
    {
     "name": "stdout",
     "output_type": "stream",
     "text": [
      "5\n",
      "[3, 'apa', True, 6.5, 'banan', 'citron']\n"
     ]
    }
   ],
   "source": [
    "min_lista = [3, \"apa\", True, 6.5, \"banan\"]\n",
    "print(len(min_lista)) #Len räknar hur många saker det finns i listan och skriver ut resultatet\n",
    "min_lista.append(\"citron\") #Append lägger till någonting i slutet av listan\n",
    "print(min_lista)"
   ]
  },
  {
   "cell_type": "markdown",
   "id": "b23645fd",
   "metadata": {},
   "source": [
    "## 8. Gör en egen funktion (def)"
   ]
  },
  {
   "cell_type": "code",
   "execution_count": 7,
   "id": "92eb6743",
   "metadata": {},
   "outputs": [
    {
     "name": "stdout",
     "output_type": "stream",
     "text": [
      "Ange det första heltalet: 7\n",
      "Ange det andra heltalet: 5\n",
      "12\n"
     ]
    }
   ],
   "source": [
    "def addera_tal():\n",
    "    a = int(input(\"Ange det första heltalet: \"))\n",
    "    b = int(input(\"Ange det andra heltalet: \"))\n",
    "    resultat = a + b\n",
    "    return resultat\n",
    "\n",
    "resultat = addera_tal()\n",
    "print(resultat)\n",
    "\n",
    "#Simpel funktion som frågar om 2 siffror och lägger ihop deras värde"
   ]
  },
  {
   "cell_type": "code",
   "execution_count": null,
   "id": "310f990e",
   "metadata": {},
   "outputs": [],
   "source": []
  }
 ],
 "metadata": {
  "kernelspec": {
   "display_name": "Python 3 (ipykernel)",
   "language": "python",
   "name": "python3"
  },
  "language_info": {
   "codemirror_mode": {
    "name": "ipython",
    "version": 3
   },
   "file_extension": ".py",
   "mimetype": "text/x-python",
   "name": "python",
   "nbconvert_exporter": "python",
   "pygments_lexer": "ipython3",
   "version": "3.9.13"
  }
 },
 "nbformat": 4,
 "nbformat_minor": 5
}
