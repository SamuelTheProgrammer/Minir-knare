{
 "cells": [
  {
   "cell_type": "code",
   "execution_count": 2,
   "id": "4a440a1a",
   "metadata": {},
   "outputs": [
    {
     "name": "stdout",
     "output_type": "stream",
     "text": [
      "** Warning - random Theme is not a valid theme. Change your theme call. **\n",
      "valid values are ['Black', 'BlueMono', 'BluePurple', 'BrightColors', 'BrownBlue', 'Dark', 'Dark2', 'DarkAmber', 'DarkBlack', 'DarkBlack1', 'DarkBlue', 'DarkBlue1', 'DarkBlue10', 'DarkBlue11', 'DarkBlue12', 'DarkBlue13', 'DarkBlue14', 'DarkBlue15', 'DarkBlue16', 'DarkBlue17', 'DarkBlue2', 'DarkBlue3', 'DarkBlue4', 'DarkBlue5', 'DarkBlue6', 'DarkBlue7', 'DarkBlue8', 'DarkBlue9', 'DarkBrown', 'DarkBrown1', 'DarkBrown2', 'DarkBrown3', 'DarkBrown4', 'DarkBrown5', 'DarkBrown6', 'DarkBrown7', 'DarkGreen', 'DarkGreen1', 'DarkGreen2', 'DarkGreen3', 'DarkGreen4', 'DarkGreen5', 'DarkGreen6', 'DarkGreen7', 'DarkGrey', 'DarkGrey1', 'DarkGrey10', 'DarkGrey11', 'DarkGrey12', 'DarkGrey13', 'DarkGrey14', 'DarkGrey15', 'DarkGrey2', 'DarkGrey3', 'DarkGrey4', 'DarkGrey5', 'DarkGrey6', 'DarkGrey7', 'DarkGrey8', 'DarkGrey9', 'DarkPurple', 'DarkPurple1', 'DarkPurple2', 'DarkPurple3', 'DarkPurple4', 'DarkPurple5', 'DarkPurple6', 'DarkPurple7', 'DarkRed', 'DarkRed1', 'DarkRed2', 'DarkTanBlue', 'DarkTeal', 'DarkTeal1', 'DarkTeal10', 'DarkTeal11', 'DarkTeal12', 'DarkTeal2', 'DarkTeal3', 'DarkTeal4', 'DarkTeal5', 'DarkTeal6', 'DarkTeal7', 'DarkTeal8', 'DarkTeal9', 'Default', 'Default1', 'DefaultNoMoreNagging', 'GrayGrayGray', 'Green', 'GreenMono', 'GreenTan', 'HotDogStand', 'Kayak', 'LightBlue', 'LightBlue1', 'LightBlue2', 'LightBlue3', 'LightBlue4', 'LightBlue5', 'LightBlue6', 'LightBlue7', 'LightBrown', 'LightBrown1', 'LightBrown10', 'LightBrown11', 'LightBrown12', 'LightBrown13', 'LightBrown2', 'LightBrown3', 'LightBrown4', 'LightBrown5', 'LightBrown6', 'LightBrown7', 'LightBrown8', 'LightBrown9', 'LightGray1', 'LightGreen', 'LightGreen1', 'LightGreen10', 'LightGreen2', 'LightGreen3', 'LightGreen4', 'LightGreen5', 'LightGreen6', 'LightGreen7', 'LightGreen8', 'LightGreen9', 'LightGrey', 'LightGrey1', 'LightGrey2', 'LightGrey3', 'LightGrey4', 'LightGrey5', 'LightGrey6', 'LightPurple', 'LightTeal', 'LightYellow', 'Material1', 'Material2', 'NeutralBlue', 'Purple', 'Python', 'PythonPlus', 'Reddit', 'Reds', 'SandyBeach', 'SystemDefault', 'SystemDefault1', 'SystemDefaultForReal', 'Tan', 'TanBlue', 'TealMono', 'Topanga']\n",
      "Instead, please enjoy a random Theme named DarkTeal3\n"
     ]
    }
   ],
   "source": [
    "import PySimpleGUI as sg\n",
    "\n",
    "def create_window(theme):\n",
    "    sg.theme(theme)\n",
    "    sg.set_options(font = 'Helvetica',button_element_size = (6,3))\n",
    "    button_size = (6,3)\n",
    "    layout = [\n",
    "       [sg.Text(\n",
    "            'output', \n",
    "            font = 'Helvetica',\n",
    "            justification = 'right', \n",
    "            expand_x = True, \n",
    "            pad = (10,20),\n",
    "            right_click_menu = theme_menu,\n",
    "            key = '-TEXT-')\n",
    "        ],\n",
    "        [sg.Button('Rensa', expand_x = True), sg.Button('Enter', expand_x = True)],\n",
    "        [sg.Button(7, size = button_size),sg.Button(8, size = button_size),sg.Button(9, size = button_size),sg.Button('*', size = button_size)],\n",
    "        [sg.Button(4, size = button_size),sg.Button(5, size = button_size),sg.Button(6, size = button_size),sg.Button('/', size = button_size)],\n",
    "        [sg.Button(1, size = button_size),sg.Button(2, size = button_size),sg.Button(3, size = button_size),sg.Button('-', size = button_size)],\n",
    "        [sg.Button(0, expand_x = True),sg.Button('.', size = button_size),sg.Button('+', size = button_size)],\n",
    "        [sg.Button('Tryck inte, då dör du!', key='Varning', expand_x = True)]\n",
    "    ]\n",
    "\n",
    "    return sg.Window('Miniräknare', layout)\n",
    "\n",
    "theme_menu = ['menu',['LightGrey1','dark','DarkGray8','random']]\n",
    "window = create_window('random')\n",
    "\n",
    "current_num = []\n",
    "full_operation = []\n",
    "\n",
    "while True:\n",
    "    event, values = window.read()\n",
    "    if event == sg.WIN_CLOSED:\n",
    "        break\n",
    "\n",
    "    if event in theme_menu[1]:\n",
    "        window.close()\n",
    "        window = create_window(event)\n",
    "        \n",
    "    if event in ['0','1','2','3','4','5','6','7','8','9','.']:\n",
    "        current_num.append(event)\n",
    "        num_string = ''.join(current_num)\n",
    "        window['-TEXT-'].update(num_string)\n",
    "\n",
    "    if event in ['+','-','/','*']:\n",
    "        full_operation.append(''.join(current_num))\n",
    "        current_num = []\n",
    "        full_operation.append(event)\n",
    "        window['-TEXT-'].update('')\n",
    "\n",
    "    if event == 'Enter':\n",
    "        full_operation.append(''.join(current_num))\n",
    "        result = eval(' '.join(full_operation))\n",
    "        window['-TEXT-'].update(result)\n",
    "        full_operation = []\n",
    "\n",
    "    if event == 'Rensa':\n",
    "        current_num = []\n",
    "        full_operation = []\n",
    "        window['-TEXT-'].update('')\n",
    "        \n",
    "    if event == 'Varning':\n",
    "        sg.popup('90101, det finns hjälp att få')\n",
    "\n",
    "window.close()"
   ]
  },
  {
   "cell_type": "code",
   "execution_count": null,
   "id": "c986ec12",
   "metadata": {},
   "outputs": [],
   "source": []
  },
  {
   "cell_type": "code",
   "execution_count": null,
   "id": "f3b8c98b",
   "metadata": {},
   "outputs": [],
   "source": []
  }
 ],
 "metadata": {
  "kernelspec": {
   "display_name": "Python 3 (ipykernel)",
   "language": "python",
   "name": "python3"
  },
  "language_info": {
   "codemirror_mode": {
    "name": "ipython",
    "version": 3
   },
   "file_extension": ".py",
   "mimetype": "text/x-python",
   "name": "python",
   "nbconvert_exporter": "python",
   "pygments_lexer": "ipython3",
   "version": "3.9.13"
  }
 },
 "nbformat": 4,
 "nbformat_minor": 5
}
