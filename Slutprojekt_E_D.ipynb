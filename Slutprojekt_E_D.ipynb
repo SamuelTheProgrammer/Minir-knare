{
 "cells": [
  {
   "cell_type": "markdown",
   "id": "5ec71d65",
   "metadata": {},
   "source": [
    "# Slutprojekt E-D"
   ]
  },
  {
   "cell_type": "markdown",
   "id": "a667bc78",
   "metadata": {},
   "source": [
    "## 1. Skapa en mapp på skrivbordet som heter \"slutprojekt\"."
   ]
  },
  {
   "cell_type": "markdown",
   "id": "30621a47",
   "metadata": {},
   "source": [
    "## 2. Ladda ned ditt dataset och lägg i mappen \"slutprojekt\"\n",
    "Du väljer själv vilket dataset du vill ha, det finns ett om pokemon i classroom under \"programmering i verkligheten\" och inlägg pandas.\n",
    "\n",
    "Du kan söka på nätet exempelvis [Kaggle](https://www.kaggle.com/datasets?tags=13208-Data+Visualization)"
   ]
  },
  {
   "cell_type": "markdown",
   "id": "1370f051",
   "metadata": {},
   "source": [
    "## 3. Läs in din csv-fil"
   ]
  },
  {
   "cell_type": "code",
   "execution_count": null,
   "id": "f439ed7c",
   "metadata": {},
   "outputs": [],
   "source": [
    "# import\n",
    "\n",
    "# läs in din fil"
   ]
  },
  {
   "cell_type": "markdown",
   "id": "da566792",
   "metadata": {},
   "source": [
    "## 4. Testa olika kommandon på din dataframe"
   ]
  },
  {
   "cell_type": "code",
   "execution_count": null,
   "id": "0af48f9a",
   "metadata": {},
   "outputs": [],
   "source": [
    "\n",
    "# head()\n",
    "# describe()\n",
    "# value_counts()\n",
    "# count()\n",
    "# drop()\n",
    "# iloc()\n",
    "# skapa en ny kolumn\n",
    "# byt namn på dina kolumner\n",
    "# merge()\n",
    "# Sök och hitta ytterligare någon funktion du tycker är användbar.\n"
   ]
  }
 ],
 "metadata": {
  "kernelspec": {
   "display_name": "Python 3",
   "language": "python",
   "name": "python3"
  },
  "language_info": {
   "codemirror_mode": {
    "name": "ipython",
    "version": 3
   },
   "file_extension": ".py",
   "mimetype": "text/x-python",
   "name": "python",
   "nbconvert_exporter": "python",
   "pygments_lexer": "ipython3",
   "version": "3.8.8"
  }
 },
 "nbformat": 4,
 "nbformat_minor": 5
}
